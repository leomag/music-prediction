{
 "cells": [
  {
   "cell_type": "code",
   "execution_count": 7,
   "metadata": {
    "collapsed": true
   },
   "outputs": [],
   "source": [
    "!pip install -U scikit-learn > None # Restart environment after"
   ]
  },
  {
   "cell_type": "code",
   "execution_count": 15,
   "outputs": [],
   "source": [
    "import pandas as pd\n",
    "import numpy as np\n",
    "\n",
    "from sklearn.metrics import r2_score, roc_curve, roc_auc_score\n",
    "from sklearn.datasets import load_diabetes, load_breast_cancer, make_classification, load_iris\n",
    "from sklearn.linear_model import LinearRegression, LogisticRegression, LogisticRegressionCV\n",
    "from sklearn.tree import DecisionTreeClassifier, export_graphviz\n",
    "from sklearn.metrics import mean_squared_error, classification_report\n",
    "from sklearn.model_selection import train_test_split, cross_val_score\n",
    "from sklearn.neighbors import KNeighborsClassifier\n",
    "from sklearn.inspection import DecisionBoundaryDisplay\n",
    "\n",
    "from sklearn.preprocessing import StandardScaler, LabelEncoder\n",
    "\n",
    "\n",
    "import matplotlib.pyplot as plt\n",
    "from matplotlib.colors import ListedColormap\n",
    "import seaborn as sns\n",
    "\n",
    "import warnings\n",
    "warnings.simplefilter('ignore')"
   ],
   "metadata": {
    "collapsed": false
   }
  },
  {
   "cell_type": "code",
   "execution_count": 16,
   "outputs": [],
   "source": [
    "path = 'https://raw.githubusercontent.com/leomag/music-prediction/main/dataset.csv'"
   ],
   "metadata": {
    "collapsed": false
   }
  },
  {
   "cell_type": "code",
   "execution_count": 17,
   "outputs": [],
   "source": [
    "data = pd.read_csv(path, index_col='Unnamed: 0')"
   ],
   "metadata": {
    "collapsed": false
   }
  },
  {
   "cell_type": "code",
   "execution_count": 18,
   "outputs": [],
   "source": [
    "df = data.copy().dropna()"
   ],
   "metadata": {
    "collapsed": false
   }
  },
  {
   "cell_type": "code",
   "execution_count": 19,
   "outputs": [],
   "source": [
    "cat_cols = df.select_dtypes(include='object')\n"
   ],
   "metadata": {
    "collapsed": false
   }
  },
  {
   "cell_type": "code",
   "execution_count": 20,
   "outputs": [
    {
     "data": {
      "text/plain": "   track_id  artists  album_name  track_name  popularity  duration_ms  \\\n0     62845    10357        8100       11741          73       230666   \n1     55667     3287       14796       22528          55       149610   \n2     19766    12397       39162       60774          57       210826   \n3     77941    14839        8580        9580          71       201933   \n4     68241     5255       16899       25689          82       198853   \n\n   explicit  danceability  energy  key  loudness  mode  speechiness  \\\n0     False         0.676  0.4610    1    -6.746     0       0.1430   \n1     False         0.420  0.1660    1   -17.235     1       0.0763   \n2     False         0.438  0.3590    0    -9.734     1       0.0557   \n3     False         0.266  0.0596    0   -18.515     1       0.0363   \n4     False         0.618  0.4430    2    -9.681     1       0.0526   \n\n   acousticness  instrumentalness  liveness  valence    tempo  time_signature  \\\n0        0.0322          0.000001    0.3580    0.715   87.917               4   \n1        0.9240          0.000006    0.1010    0.267   77.489               4   \n2        0.2100          0.000000    0.1170    0.120   76.332               4   \n3        0.9050          0.000071    0.1320    0.143  181.740               3   \n4        0.4690          0.000000    0.0829    0.167  119.949               4   \n\n   track_genre  \n0            0  \n1            0  \n2            0  \n3            0  \n4            0  ",
      "text/html": "<div>\n<style scoped>\n    .dataframe tbody tr th:only-of-type {\n        vertical-align: middle;\n    }\n\n    .dataframe tbody tr th {\n        vertical-align: top;\n    }\n\n    .dataframe thead th {\n        text-align: right;\n    }\n</style>\n<table border=\"1\" class=\"dataframe\">\n  <thead>\n    <tr style=\"text-align: right;\">\n      <th></th>\n      <th>track_id</th>\n      <th>artists</th>\n      <th>album_name</th>\n      <th>track_name</th>\n      <th>popularity</th>\n      <th>duration_ms</th>\n      <th>explicit</th>\n      <th>danceability</th>\n      <th>energy</th>\n      <th>key</th>\n      <th>loudness</th>\n      <th>mode</th>\n      <th>speechiness</th>\n      <th>acousticness</th>\n      <th>instrumentalness</th>\n      <th>liveness</th>\n      <th>valence</th>\n      <th>tempo</th>\n      <th>time_signature</th>\n      <th>track_genre</th>\n    </tr>\n  </thead>\n  <tbody>\n    <tr>\n      <th>0</th>\n      <td>62845</td>\n      <td>10357</td>\n      <td>8100</td>\n      <td>11741</td>\n      <td>73</td>\n      <td>230666</td>\n      <td>False</td>\n      <td>0.676</td>\n      <td>0.4610</td>\n      <td>1</td>\n      <td>-6.746</td>\n      <td>0</td>\n      <td>0.1430</td>\n      <td>0.0322</td>\n      <td>0.000001</td>\n      <td>0.3580</td>\n      <td>0.715</td>\n      <td>87.917</td>\n      <td>4</td>\n      <td>0</td>\n    </tr>\n    <tr>\n      <th>1</th>\n      <td>55667</td>\n      <td>3287</td>\n      <td>14796</td>\n      <td>22528</td>\n      <td>55</td>\n      <td>149610</td>\n      <td>False</td>\n      <td>0.420</td>\n      <td>0.1660</td>\n      <td>1</td>\n      <td>-17.235</td>\n      <td>1</td>\n      <td>0.0763</td>\n      <td>0.9240</td>\n      <td>0.000006</td>\n      <td>0.1010</td>\n      <td>0.267</td>\n      <td>77.489</td>\n      <td>4</td>\n      <td>0</td>\n    </tr>\n    <tr>\n      <th>2</th>\n      <td>19766</td>\n      <td>12397</td>\n      <td>39162</td>\n      <td>60774</td>\n      <td>57</td>\n      <td>210826</td>\n      <td>False</td>\n      <td>0.438</td>\n      <td>0.3590</td>\n      <td>0</td>\n      <td>-9.734</td>\n      <td>1</td>\n      <td>0.0557</td>\n      <td>0.2100</td>\n      <td>0.000000</td>\n      <td>0.1170</td>\n      <td>0.120</td>\n      <td>76.332</td>\n      <td>4</td>\n      <td>0</td>\n    </tr>\n    <tr>\n      <th>3</th>\n      <td>77941</td>\n      <td>14839</td>\n      <td>8580</td>\n      <td>9580</td>\n      <td>71</td>\n      <td>201933</td>\n      <td>False</td>\n      <td>0.266</td>\n      <td>0.0596</td>\n      <td>0</td>\n      <td>-18.515</td>\n      <td>1</td>\n      <td>0.0363</td>\n      <td>0.9050</td>\n      <td>0.000071</td>\n      <td>0.1320</td>\n      <td>0.143</td>\n      <td>181.740</td>\n      <td>3</td>\n      <td>0</td>\n    </tr>\n    <tr>\n      <th>4</th>\n      <td>68241</td>\n      <td>5255</td>\n      <td>16899</td>\n      <td>25689</td>\n      <td>82</td>\n      <td>198853</td>\n      <td>False</td>\n      <td>0.618</td>\n      <td>0.4430</td>\n      <td>2</td>\n      <td>-9.681</td>\n      <td>1</td>\n      <td>0.0526</td>\n      <td>0.4690</td>\n      <td>0.000000</td>\n      <td>0.0829</td>\n      <td>0.167</td>\n      <td>119.949</td>\n      <td>4</td>\n      <td>0</td>\n    </tr>\n  </tbody>\n</table>\n</div>"
     },
     "execution_count": 20,
     "metadata": {},
     "output_type": "execute_result"
    }
   ],
   "source": [
    "if 1:\n",
    "    le = LabelEncoder()\n",
    "    for c in cat_cols.columns:\n",
    "        df[c] = le.fit_transform(cat_cols[c])\n",
    "df.head()\n"
   ],
   "metadata": {
    "collapsed": false
   }
  },
  {
   "cell_type": "code",
   "execution_count": 21,
   "outputs": [
    {
     "data": {
      "text/plain": "        track_id  artists  album_name  track_name  popularity  duration_ms  \\\n20911       9130    28517        5698       67208          72       185194   \n46954      66339    27520        6518        9132          16       137919   \n97965      23671    10344        9374        2612          43       200746   \n102199     75230     1883       42047        3837           0       240146   \n104651      4701    23575       36416       35211          40       229213   \n\n        explicit  danceability  energy  key  loudness  mode  speechiness  \\\n20911      False         0.628   0.737    7    -4.437     1       0.0410   \n46954      False         0.687   0.904    6    -4.208     1       0.4540   \n97965      False         0.804   0.784    7    -5.458     1       0.0677   \n102199     False         0.523   0.322    0    -8.957     1       0.0285   \n104651     False         0.601   0.198    1    -9.794     1       0.0280   \n\n        acousticness  instrumentalness  liveness  valence    tempo  \\\n20911         0.0625          0.000000    0.0777   0.5920   91.507   \n46954         0.1180          0.000848    0.6460   0.0378  155.059   \n97965         0.2500          0.000000    0.0466   0.9750  152.020   \n102199        0.5350          0.000000    0.1320   0.3000  126.002   \n104651        0.8630          0.000367    0.1070   0.2010  103.800   \n\n        time_signature  \n20911                4  \n46954                4  \n97965                4  \n102199               4  \n104651               4  ",
      "text/html": "<div>\n<style scoped>\n    .dataframe tbody tr th:only-of-type {\n        vertical-align: middle;\n    }\n\n    .dataframe tbody tr th {\n        vertical-align: top;\n    }\n\n    .dataframe thead th {\n        text-align: right;\n    }\n</style>\n<table border=\"1\" class=\"dataframe\">\n  <thead>\n    <tr style=\"text-align: right;\">\n      <th></th>\n      <th>track_id</th>\n      <th>artists</th>\n      <th>album_name</th>\n      <th>track_name</th>\n      <th>popularity</th>\n      <th>duration_ms</th>\n      <th>explicit</th>\n      <th>danceability</th>\n      <th>energy</th>\n      <th>key</th>\n      <th>loudness</th>\n      <th>mode</th>\n      <th>speechiness</th>\n      <th>acousticness</th>\n      <th>instrumentalness</th>\n      <th>liveness</th>\n      <th>valence</th>\n      <th>tempo</th>\n      <th>time_signature</th>\n    </tr>\n  </thead>\n  <tbody>\n    <tr>\n      <th>20911</th>\n      <td>9130</td>\n      <td>28517</td>\n      <td>5698</td>\n      <td>67208</td>\n      <td>72</td>\n      <td>185194</td>\n      <td>False</td>\n      <td>0.628</td>\n      <td>0.737</td>\n      <td>7</td>\n      <td>-4.437</td>\n      <td>1</td>\n      <td>0.0410</td>\n      <td>0.0625</td>\n      <td>0.000000</td>\n      <td>0.0777</td>\n      <td>0.5920</td>\n      <td>91.507</td>\n      <td>4</td>\n    </tr>\n    <tr>\n      <th>46954</th>\n      <td>66339</td>\n      <td>27520</td>\n      <td>6518</td>\n      <td>9132</td>\n      <td>16</td>\n      <td>137919</td>\n      <td>False</td>\n      <td>0.687</td>\n      <td>0.904</td>\n      <td>6</td>\n      <td>-4.208</td>\n      <td>1</td>\n      <td>0.4540</td>\n      <td>0.1180</td>\n      <td>0.000848</td>\n      <td>0.6460</td>\n      <td>0.0378</td>\n      <td>155.059</td>\n      <td>4</td>\n    </tr>\n    <tr>\n      <th>97965</th>\n      <td>23671</td>\n      <td>10344</td>\n      <td>9374</td>\n      <td>2612</td>\n      <td>43</td>\n      <td>200746</td>\n      <td>False</td>\n      <td>0.804</td>\n      <td>0.784</td>\n      <td>7</td>\n      <td>-5.458</td>\n      <td>1</td>\n      <td>0.0677</td>\n      <td>0.2500</td>\n      <td>0.000000</td>\n      <td>0.0466</td>\n      <td>0.9750</td>\n      <td>152.020</td>\n      <td>4</td>\n    </tr>\n    <tr>\n      <th>102199</th>\n      <td>75230</td>\n      <td>1883</td>\n      <td>42047</td>\n      <td>3837</td>\n      <td>0</td>\n      <td>240146</td>\n      <td>False</td>\n      <td>0.523</td>\n      <td>0.322</td>\n      <td>0</td>\n      <td>-8.957</td>\n      <td>1</td>\n      <td>0.0285</td>\n      <td>0.5350</td>\n      <td>0.000000</td>\n      <td>0.1320</td>\n      <td>0.3000</td>\n      <td>126.002</td>\n      <td>4</td>\n    </tr>\n    <tr>\n      <th>104651</th>\n      <td>4701</td>\n      <td>23575</td>\n      <td>36416</td>\n      <td>35211</td>\n      <td>40</td>\n      <td>229213</td>\n      <td>False</td>\n      <td>0.601</td>\n      <td>0.198</td>\n      <td>1</td>\n      <td>-9.794</td>\n      <td>1</td>\n      <td>0.0280</td>\n      <td>0.8630</td>\n      <td>0.000367</td>\n      <td>0.1070</td>\n      <td>0.2010</td>\n      <td>103.800</td>\n      <td>4</td>\n    </tr>\n  </tbody>\n</table>\n</div>"
     },
     "execution_count": 21,
     "metadata": {},
     "output_type": "execute_result"
    }
   ],
   "source": [
    "X_train, X_test, y_train, y_test = train_test_split(\n",
    "    df.drop(columns='track_genre'),\n",
    "    df['track_genre'],\n",
    "    random_state=2023,\n",
    "    test_size=0.3\n",
    ")\n",
    "X_train.head()"
   ],
   "metadata": {
    "collapsed": false
   }
  },
  {
   "cell_type": "code",
   "execution_count": 22,
   "outputs": [],
   "source": [
    "scaler = StandardScaler()\n",
    "\n",
    "X_train_scaled = pd.DataFrame(\n",
    "    scaler.fit_transform(X_train),\n",
    "    columns=X_train.columns\n",
    ")\n",
    "\n",
    "X_test_scaled = pd.DataFrame(\n",
    "    scaler.transform(X_test),\n",
    "    columns=X_test.columns\n",
    ")"
   ],
   "metadata": {
    "collapsed": false
   }
  },
  {
   "cell_type": "code",
   "execution_count": 23,
   "outputs": [
    {
     "name": "stdout",
     "output_type": "stream",
     "text": [
      "              precision    recall  f1-score   support\n",
      "\n",
      "           0       0.12      0.13      0.12       269\n",
      "           1       0.16      0.11      0.13       308\n",
      "           2       0.02      0.00      0.01       308\n",
      "           3       0.06      0.02      0.03       313\n",
      "           4       0.23      0.34      0.27       295\n",
      "           5       0.05      0.03      0.03       314\n",
      "           6       0.35      0.40      0.37       307\n",
      "           7       0.23      0.26      0.24       277\n",
      "           8       0.00      0.00      0.00       293\n",
      "           9       0.03      0.00      0.01       343\n",
      "          10       0.23      0.15      0.18       289\n",
      "          11       0.12      0.01      0.01       300\n",
      "          12       0.31      0.67      0.42       303\n",
      "          13       0.25      0.31      0.28       302\n",
      "          14       0.25      0.36      0.29       289\n",
      "          15       0.15      0.14      0.14       294\n",
      "          16       0.46      0.48      0.47       312\n",
      "          17       0.18      0.05      0.08       291\n",
      "          18       0.69      0.83      0.75       303\n",
      "          19       0.14      0.28      0.19       312\n",
      "          20       0.09      0.07      0.08       300\n",
      "          21       0.10      0.12      0.11       296\n",
      "          22       0.29      0.20      0.24       305\n",
      "          23       0.15      0.19      0.17       315\n",
      "          24       0.36      0.53      0.43       298\n",
      "          25       0.09      0.10      0.09       300\n",
      "          26       0.33      0.15      0.20       316\n",
      "          27       0.31      0.45      0.36       303\n",
      "          28       0.05      0.02      0.02       306\n",
      "          29       0.15      0.17      0.16       303\n",
      "          30       0.06      0.01      0.02       318\n",
      "          31       0.04      0.01      0.02       309\n",
      "          32       0.00      0.00      0.00       306\n",
      "          33       0.12      0.17      0.14       293\n",
      "          34       0.10      0.02      0.03       302\n",
      "          35       0.25      0.44      0.32       307\n",
      "          36       0.12      0.01      0.02       308\n",
      "          37       0.15      0.06      0.09       301\n",
      "          38       0.15      0.05      0.08       294\n",
      "          39       0.09      0.01      0.01       304\n",
      "          40       0.17      0.45      0.25       269\n",
      "          41       0.06      0.01      0.01       288\n",
      "          42       0.56      0.79      0.66       292\n",
      "          43       0.00      0.00      0.00       297\n",
      "          44       0.14      0.20      0.16       312\n",
      "          45       0.28      0.20      0.23       312\n",
      "          46       0.20      0.37      0.26       268\n",
      "          47       0.10      0.10      0.10       314\n",
      "          48       0.09      0.06      0.08       311\n",
      "          49       0.19      0.20      0.20       304\n",
      "          50       0.15      0.28      0.20       305\n",
      "          51       0.06      0.04      0.05       299\n",
      "          52       0.30      0.55      0.39       318\n",
      "          53       0.06      0.06      0.06       281\n",
      "          54       0.36      0.19      0.25       300\n",
      "          55       0.08      0.12      0.09       280\n",
      "          56       0.03      0.00      0.01       260\n",
      "          57       0.00      0.00      0.00       301\n",
      "          58       0.18      0.08      0.11       311\n",
      "          59       0.37      0.64      0.47       296\n",
      "          60       0.26      0.22      0.24       318\n",
      "          61       0.24      0.62      0.34       301\n",
      "          62       0.09      0.03      0.04       300\n",
      "          63       0.06      0.05      0.06       297\n",
      "          64       0.16      0.16      0.16       295\n",
      "          65       0.09      0.14      0.11       298\n",
      "          66       0.23      0.47      0.31       290\n",
      "          67       0.15      0.29      0.20       326\n",
      "          68       0.08      0.04      0.05       316\n",
      "          69       0.14      0.13      0.13       298\n",
      "          70       0.21      0.52      0.30       306\n",
      "          71       0.10      0.03      0.05       294\n",
      "          72       0.21      0.45      0.29       299\n",
      "          73       0.27      0.52      0.36       279\n",
      "          74       0.12      0.06      0.08       303\n",
      "          75       0.40      0.37      0.38       285\n",
      "          76       0.27      0.51      0.35       289\n",
      "          77       0.27      0.45      0.34       294\n",
      "          78       0.17      0.47      0.25       294\n",
      "          79       0.25      0.14      0.18       276\n",
      "          80       0.02      0.01      0.01       308\n",
      "          81       0.14      0.33      0.20       285\n",
      "          82       0.17      0.32      0.22       306\n",
      "          83       0.12      0.19      0.14       287\n",
      "          84       0.10      0.18      0.13       274\n",
      "          85       0.09      0.06      0.07       282\n",
      "          86       0.04      0.01      0.01       313\n",
      "          87       0.03      0.00      0.01       306\n",
      "          88       0.12      0.03      0.05       292\n",
      "          89       0.06      0.03      0.04       305\n",
      "          90       0.11      0.11      0.11       324\n",
      "          91       0.18      0.12      0.15       305\n",
      "          92       0.14      0.10      0.12       284\n",
      "          93       0.46      0.70      0.56       298\n",
      "          94       0.19      0.32      0.23       288\n",
      "          95       0.20      0.47      0.28       313\n",
      "          96       0.16      0.12      0.14       311\n",
      "          97       0.27      0.41      0.32       312\n",
      "          98       0.16      0.10      0.13       297\n",
      "          99       0.07      0.02      0.03       323\n",
      "         100       0.08      0.09      0.08       293\n",
      "         101       0.66      0.73      0.69       293\n",
      "         102       0.06      0.04      0.04       292\n",
      "         103       0.15      0.10      0.12       311\n",
      "         104       0.07      0.01      0.02       314\n",
      "         105       0.41      0.81      0.54       277\n",
      "         106       0.00      0.00      0.00       270\n",
      "         107       0.08      0.10      0.09       316\n",
      "         108       0.39      0.57      0.47       316\n",
      "         109       0.14      0.10      0.12       271\n",
      "         110       0.26      0.14      0.18       327\n",
      "         111       0.23      0.09      0.13       300\n",
      "         112       0.07      0.05      0.06       319\n",
      "         113       0.14      0.28      0.19       306\n",
      "\n",
      "    accuracy                           0.21     34200\n",
      "   macro avg       0.17      0.21      0.18     34200\n",
      "weighted avg       0.17      0.21      0.18     34200\n",
      "\n"
     ]
    }
   ],
   "source": [
    "logreg = LogisticRegression(multi_class=\"ovr\")\n",
    "logreg.fit(X_train_scaled, y_train)\n",
    "y_preds_logreg = logreg.predict(X_test_scaled)\n",
    "print(classification_report(y_test, y_preds_logreg))"
   ],
   "metadata": {
    "collapsed": false
   }
  },
  {
   "cell_type": "code",
   "execution_count": 24,
   "outputs": [
    {
     "name": "stdout",
     "output_type": "stream",
     "text": [
      "              precision    recall  f1-score   support\n",
      "\n",
      "           0       0.11      0.12      0.11       269\n",
      "           1       0.19      0.18      0.18       308\n",
      "           2       0.01      0.02      0.01       308\n",
      "           3       0.07      0.09      0.08       313\n",
      "           4       0.21      0.22      0.21       295\n",
      "           5       0.11      0.13      0.12       314\n",
      "           6       0.43      0.42      0.43       307\n",
      "           7       0.32      0.32      0.32       277\n",
      "           8       0.05      0.07      0.06       293\n",
      "           9       0.08      0.10      0.09       343\n",
      "          10       0.33      0.37      0.35       289\n",
      "          11       0.09      0.08      0.09       300\n",
      "          12       0.56      0.58      0.57       303\n",
      "          13       0.42      0.44      0.43       302\n",
      "          14       0.33      0.28      0.30       289\n",
      "          15       0.12      0.14      0.13       294\n",
      "          16       0.49      0.53      0.51       312\n",
      "          17       0.17      0.18      0.17       291\n",
      "          18       0.79      0.79      0.79       303\n",
      "          19       0.49      0.42      0.45       312\n",
      "          20       0.23      0.32      0.26       300\n",
      "          21       0.17      0.18      0.18       296\n",
      "          22       0.20      0.22      0.21       305\n",
      "          23       0.09      0.11      0.10       315\n",
      "          24       0.43      0.39      0.41       298\n",
      "          25       0.11      0.12      0.11       300\n",
      "          26       0.26      0.25      0.25       316\n",
      "          27       0.43      0.43      0.43       303\n",
      "          28       0.05      0.07      0.06       306\n",
      "          29       0.02      0.02      0.02       303\n",
      "          30       0.02      0.03      0.03       318\n",
      "          31       0.15      0.17      0.16       309\n",
      "          32       0.06      0.06      0.06       306\n",
      "          33       0.12      0.15      0.13       293\n",
      "          34       0.05      0.07      0.06       302\n",
      "          35       0.34      0.32      0.33       307\n",
      "          36       0.17      0.17      0.17       308\n",
      "          37       0.15      0.16      0.16       301\n",
      "          38       0.10      0.11      0.11       294\n",
      "          39       0.21      0.22      0.21       304\n",
      "          40       0.23      0.25      0.24       269\n",
      "          41       0.08      0.07      0.08       288\n",
      "          42       0.71      0.76      0.74       292\n",
      "          43       0.08      0.08      0.08       297\n",
      "          44       0.16      0.13      0.15       312\n",
      "          45       0.27      0.21      0.24       312\n",
      "          46       0.24      0.29      0.26       268\n",
      "          47       0.06      0.07      0.07       314\n",
      "          48       0.24      0.21      0.22       311\n",
      "          49       0.45      0.38      0.42       304\n",
      "          50       0.29      0.28      0.29       305\n",
      "          51       0.17      0.19      0.18       299\n",
      "          52       0.69      0.65      0.67       318\n",
      "          53       0.11      0.07      0.09       281\n",
      "          54       0.40      0.36      0.38       300\n",
      "          55       0.14      0.17      0.16       280\n",
      "          56       0.04      0.05      0.04       260\n",
      "          57       0.07      0.06      0.06       301\n",
      "          58       0.13      0.12      0.13       311\n",
      "          59       0.72      0.65      0.68       296\n",
      "          60       0.32      0.30      0.31       318\n",
      "          61       0.54      0.54      0.54       301\n",
      "          62       0.13      0.17      0.15       300\n",
      "          63       0.13      0.12      0.12       297\n",
      "          64       0.35      0.35      0.35       295\n",
      "          65       0.34      0.30      0.32       298\n",
      "          66       0.56      0.56      0.56       290\n",
      "          67       0.09      0.13      0.11       326\n",
      "          68       0.02      0.02      0.02       316\n",
      "          69       0.14      0.14      0.14       298\n",
      "          70       0.55      0.48      0.52       306\n",
      "          71       0.05      0.04      0.05       294\n",
      "          72       0.22      0.21      0.22       299\n",
      "          73       0.27      0.28      0.28       279\n",
      "          74       0.09      0.10      0.09       303\n",
      "          75       0.43      0.46      0.45       285\n",
      "          76       0.37      0.35      0.36       289\n",
      "          77       0.31      0.32      0.31       294\n",
      "          78       0.33      0.32      0.32       294\n",
      "          79       0.24      0.20      0.22       276\n",
      "          80       0.18      0.18      0.18       308\n",
      "          81       0.35      0.34      0.35       285\n",
      "          82       0.24      0.21      0.22       306\n",
      "          83       0.15      0.14      0.15       287\n",
      "          84       0.12      0.13      0.13       274\n",
      "          85       0.06      0.07      0.07       282\n",
      "          86       0.06      0.05      0.05       313\n",
      "          87       0.13      0.12      0.13       306\n",
      "          88       0.04      0.03      0.03       292\n",
      "          89       0.04      0.02      0.03       305\n",
      "          90       0.20      0.12      0.15       324\n",
      "          91       0.24      0.23      0.24       305\n",
      "          92       0.18      0.17      0.17       284\n",
      "          93       0.85      0.82      0.83       298\n",
      "          94       0.13      0.13      0.13       288\n",
      "          95       0.52      0.52      0.52       313\n",
      "          96       0.20      0.16      0.18       311\n",
      "          97       0.40      0.34      0.37       312\n",
      "          98       0.22      0.24      0.23       297\n",
      "          99       0.01      0.01      0.01       323\n",
      "         100       0.14      0.14      0.14       293\n",
      "         101       0.85      0.84      0.85       293\n",
      "         102       0.02      0.02      0.02       292\n",
      "         103       0.30      0.19      0.23       311\n",
      "         104       0.16      0.12      0.14       314\n",
      "         105       0.55      0.58      0.57       277\n",
      "         106       0.13      0.13      0.13       270\n",
      "         107       0.16      0.14      0.15       316\n",
      "         108       0.62      0.56      0.59       316\n",
      "         109       0.12      0.11      0.12       271\n",
      "         110       0.37      0.26      0.30       327\n",
      "         111       0.14      0.13      0.14       300\n",
      "         112       0.18      0.12      0.14       319\n",
      "         113       0.24      0.21      0.22       306\n",
      "\n",
      "    accuracy                           0.24     34200\n",
      "   macro avg       0.24      0.24      0.24     34200\n",
      "weighted avg       0.24      0.24      0.24     34200\n",
      "\n"
     ]
    }
   ],
   "source": [
    "dtc = DecisionTreeClassifier()\n",
    "dtc = dtc.fit(X_train, y_train)\n",
    "y_preds_dtc = dtc.predict(X_test)\n",
    "print(classification_report(y_test, y_preds_dtc))"
   ],
   "metadata": {
    "collapsed": false
   }
  },
  {
   "cell_type": "code",
   "execution_count": 25,
   "outputs": [],
   "source": [
    "def plot_roc_auc(fpr, tpr, thresholds, title):\n",
    "    plt.plot([0,1], [0,1], linestyle='--', label='No Skill')\n",
    "    plt.plot(fpr, tpr, marker='.', label='DecisionTreeClassifier')\n",
    "    plt.xlabel('False Positive Rate')\n",
    "    plt.ylabel('True Positive Rate')\n",
    "    plt.legend()\n",
    "    plt.grid()\n",
    "    plt.show()"
   ],
   "metadata": {
    "collapsed": false
   }
  },
  {
   "cell_type": "code",
   "execution_count": 26,
   "outputs": [
    {
     "data": {
      "text/plain": "<Figure size 640x480 with 1 Axes>",
      "image/png": "[encoded data removed]"
     },
     "metadata": {},
     "output_type": "display_data"
    }
   ],
   "source": [
    "# y_pred = log_reg.predict_proba(X_test)[:, 1]\n",
    "fpr, tpr, thresholds = roc_curve(y_test, y_preds_dtc, pos_label=1)\n",
    "plot_roc_auc(fpr, tpr, thresholds, title='Decision Tree Classifier')"
   ],
   "metadata": {
    "collapsed": false
   }
  },
  {
   "cell_type": "code",
   "execution_count": 27,
   "outputs": [
    {
     "name": "stdout",
     "output_type": "stream",
     "text": [
      "              precision    recall  f1-score   support\n",
      "\n",
      "           0       0.12      0.13      0.12       269\n",
      "           1       0.16      0.11      0.13       308\n",
      "           2       0.02      0.00      0.01       308\n",
      "           3       0.06      0.02      0.03       313\n",
      "           4       0.23      0.34      0.27       295\n",
      "           5       0.05      0.03      0.03       314\n",
      "           6       0.35      0.40      0.37       307\n",
      "           7       0.23      0.26      0.24       277\n",
      "           8       0.00      0.00      0.00       293\n",
      "           9       0.03      0.00      0.01       343\n",
      "          10       0.23      0.15      0.18       289\n",
      "          11       0.12      0.01      0.01       300\n",
      "          12       0.31      0.67      0.42       303\n",
      "          13       0.25      0.31      0.28       302\n",
      "          14       0.25      0.36      0.29       289\n",
      "          15       0.15      0.14      0.14       294\n",
      "          16       0.46      0.48      0.47       312\n",
      "          17       0.18      0.05      0.08       291\n",
      "          18       0.69      0.83      0.75       303\n",
      "          19       0.14      0.28      0.19       312\n",
      "          20       0.09      0.07      0.08       300\n",
      "          21       0.10      0.12      0.11       296\n",
      "          22       0.29      0.20      0.24       305\n",
      "          23       0.15      0.19      0.17       315\n",
      "          24       0.36      0.53      0.43       298\n",
      "          25       0.09      0.10      0.09       300\n",
      "          26       0.33      0.15      0.20       316\n",
      "          27       0.31      0.45      0.36       303\n",
      "          28       0.05      0.02      0.02       306\n",
      "          29       0.15      0.17      0.16       303\n",
      "          30       0.06      0.01      0.02       318\n",
      "          31       0.04      0.01      0.02       309\n",
      "          32       0.00      0.00      0.00       306\n",
      "          33       0.12      0.17      0.14       293\n",
      "          34       0.10      0.02      0.03       302\n",
      "          35       0.25      0.44      0.32       307\n",
      "          36       0.12      0.01      0.02       308\n",
      "          37       0.15      0.06      0.09       301\n",
      "          38       0.15      0.05      0.08       294\n",
      "          39       0.09      0.01      0.01       304\n",
      "          40       0.17      0.45      0.25       269\n",
      "          41       0.06      0.01      0.01       288\n",
      "          42       0.56      0.79      0.66       292\n",
      "          43       0.00      0.00      0.00       297\n",
      "          44       0.14      0.20      0.16       312\n",
      "          45       0.28      0.20      0.23       312\n",
      "          46       0.20      0.37      0.26       268\n",
      "          47       0.10      0.10      0.10       314\n",
      "          48       0.09      0.06      0.08       311\n",
      "          49       0.19      0.20      0.20       304\n",
      "          50       0.15      0.28      0.20       305\n",
      "          51       0.06      0.04      0.05       299\n",
      "          52       0.30      0.55      0.39       318\n",
      "          53       0.06      0.06      0.06       281\n",
      "          54       0.36      0.19      0.25       300\n",
      "          55       0.08      0.12      0.09       280\n",
      "          56       0.03      0.00      0.01       260\n",
      "          57       0.00      0.00      0.00       301\n",
      "          58       0.18      0.08      0.11       311\n",
      "          59       0.37      0.64      0.47       296\n",
      "          60       0.26      0.22      0.24       318\n",
      "          61       0.24      0.62      0.34       301\n",
      "          62       0.09      0.03      0.04       300\n",
      "          63       0.06      0.05      0.06       297\n",
      "          64       0.16      0.16      0.16       295\n",
      "          65       0.09      0.14      0.11       298\n",
      "          66       0.23      0.47      0.31       290\n",
      "          67       0.15      0.29      0.20       326\n",
      "          68       0.08      0.04      0.05       316\n",
      "          69       0.14      0.13      0.13       298\n",
      "          70       0.21      0.52      0.30       306\n",
      "          71       0.10      0.03      0.05       294\n",
      "          72       0.21      0.45      0.29       299\n",
      "          73       0.27      0.52      0.36       279\n",
      "          74       0.12      0.06      0.08       303\n",
      "          75       0.40      0.37      0.38       285\n",
      "          76       0.27      0.51      0.35       289\n",
      "          77       0.27      0.45      0.34       294\n",
      "          78       0.17      0.47      0.25       294\n",
      "          79       0.25      0.14      0.18       276\n",
      "          80       0.02      0.01      0.01       308\n",
      "          81       0.14      0.33      0.20       285\n",
      "          82       0.17      0.32      0.22       306\n",
      "          83       0.12      0.19      0.14       287\n",
      "          84       0.10      0.18      0.13       274\n",
      "          85       0.09      0.06      0.07       282\n",
      "          86       0.04      0.01      0.01       313\n",
      "          87       0.03      0.00      0.01       306\n",
      "          88       0.12      0.03      0.05       292\n",
      "          89       0.06      0.03      0.04       305\n",
      "          90       0.11      0.11      0.11       324\n",
      "          91       0.18      0.12      0.15       305\n",
      "          92       0.14      0.10      0.12       284\n",
      "          93       0.46      0.70      0.56       298\n",
      "          94       0.19      0.32      0.23       288\n",
      "          95       0.20      0.47      0.28       313\n",
      "          96       0.16      0.12      0.14       311\n",
      "          97       0.27      0.41      0.32       312\n",
      "          98       0.16      0.10      0.13       297\n",
      "          99       0.07      0.02      0.03       323\n",
      "         100       0.08      0.09      0.08       293\n",
      "         101       0.66      0.73      0.69       293\n",
      "         102       0.06      0.04      0.04       292\n",
      "         103       0.15      0.10      0.12       311\n",
      "         104       0.07      0.01      0.02       314\n",
      "         105       0.41      0.81      0.54       277\n",
      "         106       0.00      0.00      0.00       270\n",
      "         107       0.08      0.10      0.09       316\n",
      "         108       0.39      0.57      0.47       316\n",
      "         109       0.14      0.10      0.12       271\n",
      "         110       0.26      0.14      0.18       327\n",
      "         111       0.23      0.09      0.13       300\n",
      "         112       0.07      0.05      0.06       319\n",
      "         113       0.14      0.28      0.19       306\n",
      "\n",
      "    accuracy                           0.21     34200\n",
      "   macro avg       0.17      0.21      0.18     34200\n",
      "weighted avg       0.17      0.21      0.18     34200\n",
      "\n"
     ]
    }
   ],
   "source": [
    "lcv = LogisticRegressionCV()\n",
    "lcv.fit(X_train_scaled, y_train)\n",
    "y_preds_logreg_cv = logreg.predict(X_test_scaled)\n",
    "print(classification_report(y_test, y_preds_logreg_cv))"
   ],
   "metadata": {
    "collapsed": false
   }
  },
  {
   "cell_type": "markdown",
   "source": [],
   "metadata": {
    "collapsed": false
   }
  },
  {
   "cell_type": "code",
   "execution_count": null,
   "outputs": [],
   "source": [
    "# clff = OneVsRestClassifier(SVC()).fit(X_train, y_train)\n",
    "# y_preds = clff.predict(X_test)\n",
    "# print(classification_report(y_test, y_preds))"
   ],
   "metadata": {
    "collapsed": false
   }
  },
  {
   "cell_type": "markdown",
   "source": [
    "Самая высокая точность вышла у DecisionTreeClassifier 0.24 (f1), но это маловато, если смотреть на график пока позитива мало, всё потому что здесь задача мультиклассовой классификации, то есть трек, может иметь несколько жанров, поэтому есть смысл посмотреть в будущем бустинг или OneVsRestClassifier глубже, здесь я его пытался запустить, но он не справился и часа за два, потому что SVC производит очень много вычислений. Хотя логистическая регрессия многоклассовая внутри себе и есть OneVsRestClassifier, но хотелось всё же увидеть что будет если использовать именно отдельно OneVsRestClassifier."
   ],
   "metadata": {
    "collapsed": false
   }
  }
 ],
 "metadata": {
  "kernelspec": {
   "display_name": "Python 3",
   "language": "python",
   "name": "python3"
  },
  "language_info": {
   "codemirror_mode": {
    "name": "ipython",
    "version": 2
   },
   "file_extension": ".py",
   "mimetype": "text/x-python",
   "name": "python",
   "nbconvert_exporter": "python",
   "pygments_lexer": "ipython2",
   "version": "2.7.6"
  }
 },
 "nbformat": 4,
 "nbformat_minor": 0
}
